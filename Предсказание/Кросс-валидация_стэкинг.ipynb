{
 "cells": [
  {
   "cell_type": "code",
   "execution_count": 1,
   "metadata": {},
   "outputs": [],
   "source": [
    "# !pip install catboost\n",
    "# !pip3 install imblearn"
   ]
  },
  {
   "cell_type": "code",
   "execution_count": 12,
   "metadata": {},
   "outputs": [],
   "source": [
    "import pandas as pd\n",
    "import numpy as np\n",
    "from collections import Counter\n",
    "import itertools\n",
    "\n",
    "import warnings\n",
    "warnings.filterwarnings('ignore')\n",
    "\n",
    "from sklearn.preprocessing import StandardScaler, RobustScaler, MinMaxScaler, Normalizer, MaxAbsScaler                          \n",
    "from sklearn.metrics import roc_auc_score, f1_score, silhouette_score, homogeneity_score,\\\n",
    "completeness_score, v_measure_score, confusion_matrix, classification_report, accuracy_score,\\\n",
    "recall_score, precision_score, average_precision_score, precision_recall_curve, plot_precision_recall_curve\n",
    "from sklearn.model_selection import train_test_split, KFold, cross_validate\n",
    "from sklearn.utils.class_weight import compute_class_weight\n",
    "from sklearn.tree import DecisionTreeClassifier\n",
    "from sklearn.ensemble import RandomForestClassifier, GradientBoostingClassifier\n",
    "from sklearn.base import clone\n",
    "from sklearn.linear_model import LogisticRegression\n",
    "\n",
    "pd.set_option('display.max_rows', 1000) # показывать больше строк\n",
    "pd.set_option('display.max_columns', 50) # показывать больше колонок\n",
    "\n",
    "from catboost import CatBoostClassifier, Pool, cv\n",
    "from xgboost import XGBClassifier as xgb\n",
    "from xgboost import XGBClassifier\n",
    "from imblearn.over_sampling import RandomOverSampler, SMOTE, ADASYN\n",
    "from tqdm import tqdm\n",
    "\n",
    "%matplotlib inline\n",
    "import matplotlib\n",
    "import matplotlib.pyplot as plt\n",
    "import matplotlib.dates as mdates\n",
    "from matplotlib.ticker import (MultipleLocator, FormatStrFormatter, AutoMinorLocator)\n",
    "import seaborn as sns"
   ]
  },
  {
   "cell_type": "code",
   "execution_count": 6,
   "metadata": {},
   "outputs": [],
   "source": [
    "RANDOM_STATE =42\n",
    "np.random.seed(RANDOM_STATE)\n",
    "labels=[\"Норма\",\"Прихват\"]"
   ]
  },
  {
   "cell_type": "code",
   "execution_count": 7,
   "metadata": {},
   "outputs": [],
   "source": [
    "def compute_meta_feature(clf, X_train, X_test, y_train, cv):\n",
    "    \"\"\"\n",
    "    Computes meta-features using the classifier.\n",
    "    \n",
    "    :arg clf: scikit-learn classifier\n",
    "    :args X_train, y_train: training set\n",
    "    :arg X_test: testing set\n",
    "    :arg cv: cross-validation folding\n",
    "    \"\"\"\n",
    "    X_meta_train = np.zeros_like(y_train, dtype=np.float32)\n",
    "    for train_fold_index, predict_fold_index in cv.split(X_train):\n",
    "        X_fold_train, X_fold_predict = X_train[train_fold_index], X_train[predict_fold_index]\n",
    "        y_fold_train = y_train[train_fold_index]\n",
    "        \n",
    "        folded_clf = clone(clf)\n",
    "        folded_clf.fit(X_fold_train, y_fold_train)\n",
    "        X_meta_train[predict_fold_index] = folded_clf.predict_proba(X_fold_predict)[:, 1]\n",
    "    \n",
    "    meta_clf = clone(clf)\n",
    "    meta_clf.fit(X_train, y_train)\n",
    "    \n",
    "    X_meta_test = meta_clf.predict_proba(X_test)[:, 1]\n",
    "    \n",
    "    return X_meta_train, X_meta_test"
   ]
  },
  {
   "cell_type": "code",
   "execution_count": 8,
   "metadata": {},
   "outputs": [],
   "source": [
    "def generate_metafeatures(classifiers, X_train, X_test, y_train, cv):\n",
    "    \"\"\"\n",
    "    Generates metafeatures using a list of classifiers.\n",
    "    \n",
    "    :arg classifiers: list of scikit-learn classifiers\n",
    "    :args X_train, y_train: training set\n",
    "    :arg X_test: testing set\n",
    "    :arg cv: cross-validation folding\n",
    "    \"\"\"\n",
    "    features = [\n",
    "        compute_meta_feature(clf, X_train, X_test, y_train, cv)\n",
    "        for clf in tqdm(classifiers)\n",
    "    ]\n",
    "    \n",
    "    stacked_features_train = np.vstack([\n",
    "        features_train for features_train, features_test in features\n",
    "    ]).T\n",
    "\n",
    "    stacked_features_test = np.vstack([\n",
    "        features_test for features_train, features_test in features\n",
    "    ]).T\n",
    "    \n",
    "    return stacked_features_train, stacked_features_test"
   ]
  },
  {
   "cell_type": "code",
   "execution_count": 17,
   "metadata": {},
   "outputs": [
    {
     "name": "stdout",
     "output_type": "stream",
     "text": [
      "The autoreload extension is already loaded. To reload it, use:\n",
      "  %reload_ext autoreload\n"
     ]
    },
    {
     "name": "stderr",
     "output_type": "stream",
     "text": [
      "100%|███████████████████████████████████████████████████████████████████████████████████| 4/4 [56:15<00:00, 843.76s/it]\n"
     ]
    },
    {
     "name": "stdout",
     "output_type": "stream",
     "text": [
      "The autoreload extension is already loaded. To reload it, use:\n",
      "  %reload_ext autoreload\n"
     ]
    },
    {
     "name": "stderr",
     "output_type": "stream",
     "text": [
      "100%|████████████████████████████████████████████████████████████████████████████████████| 4/4 [03:47<00:00, 56.86s/it]\n"
     ]
    },
    {
     "name": "stdout",
     "output_type": "stream",
     "text": [
      "The autoreload extension is already loaded. To reload it, use:\n",
      "  %reload_ext autoreload\n"
     ]
    },
    {
     "name": "stderr",
     "output_type": "stream",
     "text": [
      "100%|█████████████████████████████████████████████████████████████████████████████████| 4/4 [1:03:42<00:00, 955.66s/it]\n"
     ]
    },
    {
     "name": "stdout",
     "output_type": "stream",
     "text": [
      "The autoreload extension is already loaded. To reload it, use:\n",
      "  %reload_ext autoreload\n"
     ]
    },
    {
     "name": "stderr",
     "output_type": "stream",
     "text": [
      "100%|████████████████████████████████████████████████████████████████████████████████████| 4/4 [03:32<00:00, 53.25s/it]\n"
     ]
    },
    {
     "name": "stdout",
     "output_type": "stream",
     "text": [
      "The autoreload extension is already loaded. To reload it, use:\n",
      "  %reload_ext autoreload\n"
     ]
    },
    {
     "name": "stderr",
     "output_type": "stream",
     "text": [
      "100%|█████████████████████████████████████████████████████████████████████████████████| 4/4 [1:01:08<00:00, 917.12s/it]\n"
     ]
    },
    {
     "name": "stdout",
     "output_type": "stream",
     "text": [
      "The autoreload extension is already loaded. To reload it, use:\n",
      "  %reload_ext autoreload\n"
     ]
    },
    {
     "name": "stderr",
     "output_type": "stream",
     "text": [
      "100%|████████████████████████████████████████████████████████████████████████████████████| 4/4 [03:10<00:00, 47.65s/it]\n"
     ]
    },
    {
     "name": "stdout",
     "output_type": "stream",
     "text": [
      "The autoreload extension is already loaded. To reload it, use:\n",
      "  %reload_ext autoreload\n"
     ]
    },
    {
     "name": "stderr",
     "output_type": "stream",
     "text": [
      "100%|█████████████████████████████████████████████████████████████████████████████████| 4/4 [1:04:45<00:00, 971.48s/it]\n"
     ]
    },
    {
     "name": "stdout",
     "output_type": "stream",
     "text": [
      "The autoreload extension is already loaded. To reload it, use:\n",
      "  %reload_ext autoreload\n"
     ]
    },
    {
     "name": "stderr",
     "output_type": "stream",
     "text": [
      "100%|████████████████████████████████████████████████████████████████████████████████████| 4/4 [04:40<00:00, 70.12s/it]\n"
     ]
    },
    {
     "name": "stdout",
     "output_type": "stream",
     "text": [
      "The autoreload extension is already loaded. To reload it, use:\n",
      "  %reload_ext autoreload\n"
     ]
    },
    {
     "name": "stderr",
     "output_type": "stream",
     "text": [
      "100%|█████████████████████████████████████████████████████████████████████████████████| 4/4 [1:04:03<00:00, 960.92s/it]\n"
     ]
    },
    {
     "name": "stdout",
     "output_type": "stream",
     "text": [
      "The autoreload extension is already loaded. To reload it, use:\n",
      "  %reload_ext autoreload\n"
     ]
    },
    {
     "name": "stderr",
     "output_type": "stream",
     "text": [
      "100%|████████████████████████████████████████████████████████████████████████████████████| 4/4 [03:47<00:00, 56.80s/it]\n"
     ]
    }
   ],
   "source": [
    "metrics = {\n",
    "    'precision': [],\n",
    "    'recall': []\n",
    "}\n",
    "for i in range(1, 6):\n",
    "    path = r'C:\\Users\\shers\\Desktop\\SF\\Буровая\\cross_val_pred_30\\fold_' + str(i) +\\\n",
    "    '\\StuckPipe_train'\n",
    "        \n",
    "    %load_ext autoreload\n",
    "    %autoreload 1\n",
    "    %aimport reading_data\n",
    "    reading_data.walk_dir(path)\n",
    "        \n",
    "    data = pd.read_csv('data.csv')\n",
    "#     X =data[[\n",
    "#         'GR', 'SPPA_APRS', 'ECD', 'APRS', 'RPM', 'FLWI','STOR', 'BPOS', 'SPPA',\n",
    "#         'DDEPT_3', 'DDEPT_6', 'conner', 'F', 'PDEPT', 'DBPOS_3','DBPOS_6',  'DEPT'\n",
    "#              ]].values\n",
    "    X =data[[\n",
    "#          'F', 'STOR', 'SPPA_APRS', 'FSTOR_3', 'HKLD_bin_new',\n",
    "#          'DSPPA_3', 'BVEL_bin', \n",
    "#          'DSPPA_18', 'DSPPA_6', 'FDEPT_3', 'ANOMAL', 'DBPOS_6', 'DBVEL_6', 'HKLD', 'DBVEL_12', \n",
    "#          'DHKLD_12', 'DBVEL_18', 'FBPOS_3', 'DRPM', 'RPM', 'SPPA_APRS_back1', 'ESD', 'FSPPA_3', \n",
    "#          'DSTOR_18', 'DSPPA_12', 'BPOS', 'FLWI', 'DBPOS_18', 'FHKLD_3', 'DSPPA_APRS_3', 'DBVEL_3', \n",
    "#          'DDEPT_18', 'DRPM_18', 'ECD', 'PDEPT', 'DSTOR_12', 'FSPPA_APRS_3', 'SPPA', 'DHKLD_18',\n",
    "#          'DHKLD_6', 'DSPPA', 'DEPT', 'F_all', 'DBPOS_12'\n",
    "        'DEPT', 'HDTH', 'BPOS', 'HKLD', 'STOR', 'FLWI', 'RPM',\n",
    "        'SPPA', 'ECD', 'DLS', 'INCL', 'AZIM', 'GR', 'APRS', 'BVEL', 'RIG_STATE',\n",
    "        'ESD', 'Stick', 'DDEPT_1', 'DDEPT_3', 'DDEPT',\n",
    "        'DDEPT_6', 'DDEPT_12', 'DDEPT_18', 'DBPOS', 'DBPOS_1', 'DBPOS_3',\n",
    "        'DBPOS_6', 'DBPOS_12', 'DBPOS_18', 'DHKLD', 'DHKLD_1', 'DHKLD_3', 'DHKLD_6', \n",
    "        'DHKLD_12', 'DHKLD_18', 'DSPPA', 'DSPPA_1',\n",
    "        'DSPPA_3', 'DSPPA_6', 'DSPPA_12', 'DSPPA_18',\n",
    "        'DRPM', 'DRPM_1', 'DRPM_3', 'DRPM_6', 'DRPM_12', 'DRPM_18', \n",
    "        'DBVEL', 'DBVEL_1', 'DBVEL_3', 'DBVEL_6', 'FBVEL_1', 'DBVEL_12', 'DBVEL_18',\n",
    "        'DSTOR_1', 'DSTOR_3', 'DSTOR_6', 'DSTOR_12', 'DSTOR_18',\n",
    "        'SPPA_APRS', 'DSPPA_APRS_1', 'DSPPA_APRS_3', 'DSPPA_APRS_6',\n",
    "        'DSPPA_APRS_12', 'DSPPA_APRS_18', 'DECD', 'ANOMAL',\n",
    "        'discardSPPA', 'discardSTOR', 'discardECD', 'discardStick', 'discardAPRS', 'discardRPM',\n",
    "        'PDEPT', 'F', 'F_all', 'conner', 'conner_delta', 'GR_type',\n",
    "        'DEPT_back3', 'SPPA_back3', 'SPPA_APRS_back3',\n",
    "        'BVEL_back3', 'HKLD_back3', 'BPOS_back3', \n",
    "        'RPM_back3', 'STOR_back3', 'DEPT_back1', 'SPPA_back1', 'SPPA_APRS_back1',\n",
    "        'BVEL_back1', 'HKLD_back1', 'BPOS_back1', \n",
    "        'RPM_back1', 'STOR_back1'\n",
    "    ]].values \n",
    "    \n",
    "#     # нормализация:\n",
    "#     sc = StandardScaler()    # MaxAbsScaler- StandardScaler+ RobustScaler+\n",
    "#     X = sc.fit_transform(X)\n",
    "    y = data['StuckPipe'].values\n",
    "    \n",
    "    X_train = X[0:23000]\n",
    "    X_val = X[23000:]\n",
    "    y_train = y[0:23000]\n",
    "    y_val = y[23000:]\n",
    "#     X_train, X_test, y_train, y_test = train_test_split(\n",
    "#         X, y, test_size=0.2, shuffle=False, random_state=RANDOM_STATE)\n",
    "    \n",
    "#     X, y = SMOTE(random_state=RANDOM_STATE).fit_resample(X, y)\n",
    "#     classes = np.unique(y_train)\n",
    "#     weights = compute_class_weight(class_weight='balanced', classes=classes, y=y_train)\n",
    "#     class_weights = dict(zip(classes, weights))\n",
    "#     model = XGBClassifier(learning_rate=0.01, \n",
    "#                            penalty='l1',\n",
    "#                            class_weight= {0:1, 1:5},\n",
    "#                            n_estimators=1000, max_depth=9)\n",
    "#     model = CatBoostClassifier(iterations=4000,\n",
    "#                         depth=9,\n",
    "#                         learning_rate=0.001,\n",
    "#                         #custom_loss=['Accuracy'],\n",
    "#                         loss_function='Logloss', \n",
    "#                         class_weights={0:1, 1:5},\n",
    "# #                         class_weights=class_weights,\n",
    "# #                         auto_class_weights='Balanced',\n",
    "#                         eval_metric='Accuracy',\n",
    "# #                         l2_leaf_reg=1,\n",
    "#                         verbose=True, \n",
    "#                         use_best_model=True,\n",
    "#                         task_type='CPU')\n",
    "    cv = KFold(n_splits=10, shuffle=True)\n",
    "\n",
    "    stacked_features_train, stacked_features_test = generate_metafeatures([\n",
    "        LogisticRegression(C=0.001, penalty='l1', solver='liblinear', max_iter=5000),\n",
    "        LogisticRegression(C=0.001, penalty='l2', solver='liblinear', max_iter=5000),  \n",
    "        RandomForestClassifier(n_estimators=300, n_jobs=-1),\n",
    "        GradientBoostingClassifier(n_estimators=300)\n",
    "    ], X_train, X_val, y_train, cv)\n",
    "    \n",
    "    total_features_train = np.hstack([X_train, stacked_features_train])\n",
    "    total_features_test = np.hstack([X_val, stacked_features_test])\n",
    "    \n",
    "    model = LogisticRegression(penalty='none', solver='lbfgs')\n",
    "#     model.fit(X, y)\n",
    "#     model.fit(X_train, y_train, eval_set = (X_val, y_val), \n",
    "#           early_stopping_rounds=500)\n",
    "    model.fit(total_features_train, y_train)\n",
    "    \n",
    "    path = r'C:\\Users\\shers\\Desktop\\SF\\Буровая\\cross_val_pred_30\\fold_' + str(i) +\\\n",
    "    '\\StuckPipe_test'\n",
    "    \n",
    "    %load_ext autoreload\n",
    "    %autoreload 1\n",
    "    %aimport reading_data\n",
    "    reading_data.walk_dir(path)\n",
    "    \n",
    "    data = pd.read_csv('data.csv')\n",
    "    \n",
    "#     X =data[[\n",
    "#         'GR', 'SPPA_APRS', 'ECD', 'APRS', 'RPM', 'FLWI','STOR', 'BPOS', 'SPPA',\n",
    "#         'DDEPT_3', 'DDEPT_6', 'conner', 'F', 'PDEPT', 'DBPOS_3','DBPOS_6',  'DEPT'\n",
    "#              ]].values \n",
    "    X =data[[\n",
    "#          'F', 'STOR', 'SPPA_APRS', 'FSTOR_3', 'HKLD_bin_new',\n",
    "#          'DSPPA_3', 'BVEL_bin', \n",
    "#          'DSPPA_18', 'DSPPA_6', 'FDEPT_3', 'ANOMAL', 'DBPOS_6', 'DBVEL_6', 'HKLD', 'DBVEL_12', \n",
    "#          'DHKLD_12', 'DBVEL_18', 'FBPOS_3', 'DRPM', 'RPM', 'SPPA_APRS_back1', 'ESD', 'FSPPA_3', \n",
    "#          'DSTOR_18', 'DSPPA_12', 'BPOS', 'FLWI', 'DBPOS_18', 'FHKLD_3', 'DSPPA_APRS_3', 'DBVEL_3', \n",
    "#          'DDEPT_18', 'DRPM_18', 'ECD', 'PDEPT', 'DSTOR_12', 'FSPPA_APRS_3', 'SPPA', 'DHKLD_18',\n",
    "#          'DHKLD_6', 'DSPPA', 'DEPT', 'F_all', 'DBPOS_12'\n",
    "        'DEPT', 'HDTH', 'BPOS', 'HKLD', 'STOR', 'FLWI', 'RPM',\n",
    "        'SPPA', 'ECD', 'DLS', 'INCL', 'AZIM', 'GR', 'APRS', 'BVEL', 'RIG_STATE',\n",
    "        'ESD', 'Stick', 'DDEPT_1', 'DDEPT_3', 'DDEPT',\n",
    "        'DDEPT_6', 'DDEPT_12', 'DDEPT_18', 'DBPOS', 'DBPOS_1', 'DBPOS_3',\n",
    "        'DBPOS_6', 'DBPOS_12', 'DBPOS_18', 'DHKLD', 'DHKLD_1', 'DHKLD_3', 'DHKLD_6', \n",
    "        'DHKLD_12', 'DHKLD_18', 'DSPPA', 'DSPPA_1',\n",
    "        'DSPPA_3', 'DSPPA_6', 'DSPPA_12', 'DSPPA_18',\n",
    "        'DRPM', 'DRPM_1', 'DRPM_3', 'DRPM_6', 'DRPM_12', 'DRPM_18', \n",
    "        'DBVEL', 'DBVEL_1', 'DBVEL_3', 'DBVEL_6', 'FBVEL_1', 'DBVEL_12', 'DBVEL_18',\n",
    "        'DSTOR_1', 'DSTOR_3', 'DSTOR_6', 'DSTOR_12', 'DSTOR_18',\n",
    "        'SPPA_APRS', 'DSPPA_APRS_1', 'DSPPA_APRS_3', 'DSPPA_APRS_6',\n",
    "        'DSPPA_APRS_12', 'DSPPA_APRS_18', 'DECD', 'ANOMAL',\n",
    "        'discardSPPA', 'discardSTOR', 'discardECD', 'discardStick', 'discardAPRS', 'discardRPM',\n",
    "        'PDEPT', 'F', 'F_all', 'conner', 'conner_delta', 'GR_type',\n",
    "        'DEPT_back3', 'SPPA_back3', 'SPPA_APRS_back3',\n",
    "        'BVEL_back3', 'HKLD_back3', 'BPOS_back3', \n",
    "        'RPM_back3', 'STOR_back3', 'DEPT_back1', 'SPPA_back1', 'SPPA_APRS_back1',\n",
    "        'BVEL_back1', 'HKLD_back1', 'BPOS_back1', \n",
    "        'RPM_back1', 'STOR_back1'\n",
    "    ]].values \n",
    "    \n",
    "#     X = sc.fit_transform(X)\n",
    "    y_pred = data['StuckPipe'].values\n",
    "\n",
    "    stacked_features_train, stacked_features_test = generate_metafeatures([\n",
    "        LogisticRegression(C=0.001, penalty='l1', solver='liblinear', max_iter=5000),\n",
    "        LogisticRegression(C=0.001, penalty='l2', solver='liblinear', max_iter=5000),  \n",
    "        RandomForestClassifier(n_estimators=300, n_jobs=-1),\n",
    "        GradientBoostingClassifier(n_estimators=300)\n",
    "    ], X, X, y_pred, cv)\n",
    "    \n",
    "    total_features_train = np.hstack([X, stacked_features_train])\n",
    "    total_features_test = np.hstack([X, stacked_features_test])\n",
    "    \n",
    "    predict_cat = model.predict_proba(total_features_test)\n",
    "    df=pd.DataFrame()\n",
    "    df = pd.DataFrame((_ for _ in itertools.zip_longest(*predict_cat))).T\n",
    "    df.rename(columns = {0:'predict', 1:'Predict'}, inplace = True)\n",
    "    df['mark'] = 0\n",
    "    df.loc[df['Predict'] > 0.5, 'mark'] = 1\n",
    "    predict_list = df['mark'].tolist()\n",
    "    \n",
    "#     for i in range(len(predict_list)-4):\n",
    "#         if predict_list[i]==0 and predict_list[i-1]==1 and predict_list[i+1]==1:\n",
    "#             predict_list[i]=1\n",
    "#         if predict_list[i]==0 and predict_list[i-1]==1 and predict_list[i+2]==1:\n",
    "#             predict_list[i]=1\n",
    "    \n",
    "#         if predict_list[i]==1 and predict_list[i-1]==0 and predict_list[i+1]==0:\n",
    "#             predict_list[i]=0\n",
    "#         if predict_list[i]==1 and predict_list[i-1]==0 and predict_list[i+2]==0:\n",
    "#             predict_list[i]=0\n",
    "#         if predict_list[i]==1 and predict_list[i-1]==0 and predict_list[i+3]==0:\n",
    "#             predict_list[i]=0\n",
    "#     if predict_list[i]==1 and predict_list[i-1]==0 and predict_list[i+4]==0:\n",
    "#         predict_list[i]=0\n",
    "      \n",
    "    \n",
    "    rec = recall_score(y_pred, predict_list)\n",
    "    pres = precision_score(y_pred, predict_list)\n",
    "    \n",
    "    metrics['precision'].append(pres)\n",
    "    metrics['recall'].append(rec)"
   ]
  },
  {
   "cell_type": "code",
   "execution_count": 18,
   "metadata": {},
   "outputs": [
    {
     "name": "stdout",
     "output_type": "stream",
     "text": [
      "{'precision': [0.056074766355140186, 0.07339449541284404, 0.2857142857142857, 0.5, 0.5], 'recall': [0.04316546762589928, 0.05925925925925926, 0.014184397163120567, 0.03597122302158273, 0.00641025641025641]}\n"
     ]
    }
   ],
   "source": [
    "print(metrics)"
   ]
  },
  {
   "cell_type": "code",
   "execution_count": 19,
   "metadata": {
    "scrolled": true
   },
   "outputs": [
    {
     "data": {
      "text/html": [
       "<div>\n",
       "<style scoped>\n",
       "    .dataframe tbody tr th:only-of-type {\n",
       "        vertical-align: middle;\n",
       "    }\n",
       "\n",
       "    .dataframe tbody tr th {\n",
       "        vertical-align: top;\n",
       "    }\n",
       "\n",
       "    .dataframe thead th {\n",
       "        text-align: right;\n",
       "    }\n",
       "</style>\n",
       "<table border=\"1\" class=\"dataframe\">\n",
       "  <thead>\n",
       "    <tr style=\"text-align: right;\">\n",
       "      <th></th>\n",
       "      <th>precision</th>\n",
       "      <th>recall</th>\n",
       "    </tr>\n",
       "  </thead>\n",
       "  <tbody>\n",
       "    <tr>\n",
       "      <th>0</th>\n",
       "      <td>0.056075</td>\n",
       "      <td>0.043165</td>\n",
       "    </tr>\n",
       "    <tr>\n",
       "      <th>1</th>\n",
       "      <td>0.073394</td>\n",
       "      <td>0.059259</td>\n",
       "    </tr>\n",
       "    <tr>\n",
       "      <th>2</th>\n",
       "      <td>0.285714</td>\n",
       "      <td>0.014184</td>\n",
       "    </tr>\n",
       "    <tr>\n",
       "      <th>3</th>\n",
       "      <td>0.500000</td>\n",
       "      <td>0.035971</td>\n",
       "    </tr>\n",
       "    <tr>\n",
       "      <th>4</th>\n",
       "      <td>0.500000</td>\n",
       "      <td>0.006410</td>\n",
       "    </tr>\n",
       "  </tbody>\n",
       "</table>\n",
       "</div>"
      ],
      "text/plain": [
       "   precision    recall\n",
       "0   0.056075  0.043165\n",
       "1   0.073394  0.059259\n",
       "2   0.285714  0.014184\n",
       "3   0.500000  0.035971\n",
       "4   0.500000  0.006410"
      ]
     },
     "metadata": {},
     "output_type": "display_data"
    }
   ],
   "source": [
    "df = pd.DataFrame(metrics)\n",
    "display(df)"
   ]
  },
  {
   "cell_type": "code",
   "execution_count": 7,
   "metadata": {},
   "outputs": [
    {
     "name": "stdout",
     "output_type": "stream",
     "text": [
      "0.5427288220813614 0.5819876646418817\n"
     ]
    }
   ],
   "source": [
    "print(df.precision.mean(), df.recall.mean())"
   ]
  },
  {
   "cell_type": "code",
   "execution_count": 8,
   "metadata": {},
   "outputs": [
    {
     "data": {
      "image/png": "[encoded data removed]",
      "text/plain": [
       "<Figure size 1296x576 with 1 Axes>"
      ]
     },
     "metadata": {},
     "output_type": "display_data"
    }
   ],
   "source": [
    "# plt.plot(df.index, df.precision, df.index, df.recall)\n",
    "# plt.title(\"Кросс-валидация модели авторазметки на 10 фолдах\", fontsize=16) # заголовок\n",
    "# plt.xlabel(\"Номер фолда\", fontsize=16) # ось абсцисс\n",
    "# plt.ylabel(\"Точность\", fontsize=14)\n",
    "# plt.grid(which=\"major\", linewidth=1.2)\n",
    "# plt.grid(which=\"minor\", linestyle=\"--\", color=\"gray\", linewidth=0.5)\n",
    "df['precision_mean'] = df.precision.mean()\n",
    "df['recall_mean'] = df.recall.mean()\n",
    "\n",
    "fig, ax = plt.subplots(figsize=(18, 8))\n",
    "\n",
    "fig.set(facecolor = 'w')\n",
    "ax.set(facecolor = 'grey')\n",
    "\n",
    "ax.set_title(\"Кросс-валидация модели авторазметки на 5 фолдах\", fontsize=16)\n",
    "ax.set_xlabel(\"Номер фолда\", fontsize=14)        \n",
    "ax.set_ylabel(\"Точность\", fontsize=14)\n",
    "\n",
    "ax.grid(which=\"major\", linewidth=1.2)\n",
    "ax.grid(which=\"minor\", linestyle=\"--\", color=\"gray\", linewidth=0.5)\n",
    "ax.plot(df.index+1, df.precision, color=\"red\", label=\"Precision\", linewidth = 5, marker = 'o', markersize=15)\n",
    "ax.plot(df.index+1, df.recall, color ='blue', label=\"Recall\", linewidth = 5, marker = 'o', markersize=15)\n",
    "ax.plot(df.index+1, df.precision_mean, color=\"red\", label=\"Precision mean\", linewidth = 3, linestyle = '--')\n",
    "ax.annotate(round(df.recall.mean(), 2), xy=(5, 0.89), fontsize = 20)\n",
    "ax.plot(df.index+1, df.recall_mean, color='blue', label=\"Recall mean\", linewidth = 3, linestyle = '--')\n",
    "ax.annotate(round(df.precision.mean(), 2), xy=(5, 0.78), fontsize = 20)\n",
    "ax.legend(shadow = True, fontsize = 15)\n",
    "\n",
    "ax.xaxis.set_minor_locator(AutoMinorLocator())\n",
    "ax.yaxis.set_minor_locator(AutoMinorLocator())\n",
    "ax.tick_params(which='major', length=10, width=2)\n",
    "ax.tick_params(which='minor', length=5, width=1)\n",
    "\n",
    "plt.show()"
   ]
  },
  {
   "cell_type": "code",
   "execution_count": null,
   "metadata": {},
   "outputs": [],
   "source": []
  }
 ],
 "metadata": {
  "kernelspec": {
   "display_name": "Python 3",
   "language": "python",
   "name": "python3"
  },
  "language_info": {
   "codemirror_mode": {
    "name": "ipython",
    "version": 3
   },
   "file_extension": ".py",
   "mimetype": "text/x-python",
   "name": "python",
   "nbconvert_exporter": "python",
   "pygments_lexer": "ipython3",
   "version": "3.8.5"
  }
 },
 "nbformat": 4,
 "nbformat_minor": 4
}
