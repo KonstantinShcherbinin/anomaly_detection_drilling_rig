{
 "cells": [
  {
   "cell_type": "code",
   "execution_count": null,
   "metadata": {},
   "outputs": [],
   "source": [
    "# !pip install numpy\n",
    "# !pip install pandas\n",
    "# !pip install glob2\n",
    "# !pip install time\n",
    "# !pip install catboost\n",
    "# !pip install sklearn\n",
    "# !pip install pickle"
   ]
  },
  {
   "cell_type": "code",
   "execution_count": 26,
   "metadata": {
    "scrolled": true
   },
   "outputs": [
    {
     "name": "stdout",
     "output_type": "stream",
     "text": [
      "Введите путь к папке с исходными файламиC:\\Users\\shers\\Desktop\\SF\\Буровая\\test\n"
     ]
    }
   ],
   "source": [
    "path = input('Введите путь к папке с исходными файлами')"
   ]
  },
  {
   "cell_type": "code",
   "execution_count": 27,
   "metadata": {},
   "outputs": [],
   "source": [
    "import numpy as np\n",
    "import pandas as pd\n",
    "from sklearn.preprocessing import StandardScaler\n",
    "from catboost import CatBoostClassifier\n",
    "import pickle\n",
    "import itertools\n",
    "import warnings\n",
    "warnings.filterwarnings('ignore')\n",
    "\n",
    "from sklearn.metrics import roc_auc_score, f1_score, silhouette_score, homogeneity_score, completeness_score, v_measure_score, confusion_matrix, classification_report, accuracy_score\n",
    "from sklearn.model_selection import train_test_split\n",
    "from sklearn.metrics import average_precision_score\n",
    "from sklearn.metrics import precision_recall_curve\n",
    "from sklearn.metrics import plot_precision_recall_curve"
   ]
  },
  {
   "cell_type": "code",
   "execution_count": 53,
   "metadata": {
    "scrolled": true
   },
   "outputs": [
    {
     "name": "stdout",
     "output_type": "stream",
     "text": [
      "The autoreload extension is already loaded. To reload it, use:\n",
      "  %reload_ext autoreload\n"
     ]
    }
   ],
   "source": [
    "%load_ext autoreload\n",
    "%autoreload 1\n",
    "%aimport reading_data\n",
    "reading_data.walk_dir(path)"
   ]
  },
  {
   "cell_type": "code",
   "execution_count": 54,
   "metadata": {},
   "outputs": [
    {
     "data": {
      "text/plain": [
       "(234957, 135)"
      ]
     },
     "execution_count": 54,
     "metadata": {},
     "output_type": "execute_result"
    }
   ],
   "source": [
    "data = pd.read_csv('data.csv')\n",
    "data.shape"
   ]
  },
  {
   "cell_type": "code",
   "execution_count": 55,
   "metadata": {},
   "outputs": [],
   "source": [
    "X =data[[\n",
    " 'DEPT', 'HDTH', 'BPOS', 'HKLD', 'STOR', 'FLWI', 'RPM',\n",
    " 'SPPA', 'ECD', 'DLS', 'INCL', 'AZIM', 'GR', 'APRS', 'BVEL', 'RIG_STATE',\n",
    " 'ESD', 'Stick', 'DDEPT_1', 'DDEPT_3', 'DDEPT',\n",
    " 'DDEPT_6', 'FDEPT_1', 'DDEPT_12', 'DDEPT_18',\n",
    " 'FDEPT_3', 'DBPOS', 'DBPOS_1', 'DBPOS_3',\n",
    " 'DBPOS_6', 'FBPOS_1', 'DBPOS_12', 'DBPOS_18','FBPOS_3', \n",
    " 'DHKLD', 'DHKLD_1', 'DHKLD_3', 'DHKLD_6', 'DHKLD_12', 'DHKLD_18',\n",
    " 'FHKLD_1', 'FHKLD_3', 'DSPPA', 'DSPPA_1',\n",
    " 'DSPPA_3', 'DSPPA_6', 'DSPPA_12', 'DSPPA_18',\n",
    " 'FSPPA_1', 'FSPPA_3', 'DRPM', 'DRPM_1', 'DRPM_3', 'DRPM_6', 'DRPM_12',\n",
    " 'FRPM_1', 'FRPM_3', 'DRPM_18', \n",
    " 'DBVEL', 'DBVEL_1', 'DBVEL_3', 'DBVEL_6', 'FBVEL_1', 'DBVEL_12', 'DBVEL_18',\n",
    " 'FBVEL_3', 'DSTOR_1', 'DSTOR_3', 'FSTOR_1', 'FSTOR_3',\n",
    " 'DSTOR_6', 'DSTOR_12', 'DSTOR_18',\n",
    " 'SPPA_APRS', 'DSPPA_APRS_1', 'DSPPA_APRS_3', 'DSPPA_APRS_6', 'FSPPA_APRS_1',\n",
    " 'DSPPA_APRS_12', 'DSPPA_APRS_18',\n",
    " 'FSPPA_APRS_3', 'DECD', 'ANOMAL', #'TimeU',\n",
    " 'discardSPPA', 'discardSTOR', 'discardECD', 'discardStick', 'discardAPRS', 'discardRPM',\n",
    " 'PDEPT', 'F', 'F_all', 'conner', 'conner_delta', 'GR_type',\n",
    " 'DEPT_bin', 'SPPA_bin', 'SPPA_APRS_bin', 'BVEL_bin', 'HKLD_bin', 'BPOS_bin',\n",
    " 'RPM_bin', 'STOR_bin', 'DEPT_bin_new', 'SPPA_bin_new', 'SPPA_APRS_bin_new',\n",
    " 'BVEL_bin_new', 'HKLD_bin_new', 'BPOS_bin_new', \n",
    " 'RPM_bin_new', 'STOR_bin_new', 'DEPT_back3', 'SPPA_back3', 'SPPA_APRS_back3',\n",
    " 'BVEL_back3', 'HKLD_back3', 'BPOS_back3', \n",
    " 'RPM_back3', 'STOR_back3', 'DEPT_back1', 'SPPA_back1', 'SPPA_APRS_back1',\n",
    " 'BVEL_back1', 'HKLD_back1', 'BPOS_back1', \n",
    " 'RPM_back1', 'STOR_back1'\n",
    "#     'F', 'STOR', 'SPPA_APRS', 'FSTOR_3', 'HKLD_bin_new', #'TimeU', \n",
    "#     'DSPPA_3', 'BVEL_bin', 'DSPPA_18', 'DSPPA_6', 'FDEPT_3', 'ANOMAL', #'DBPOS_6', \n",
    "#     'DBVEL_6', 'HKLD', 'DBVEL_12', 'DHKLD_12', 'DBVEL_18', #'FBPOS_3', \n",
    "#     'DRPM', 'RPM',  'FLWI',\n",
    "#     'SPPA_APRS_back1', 'ESD', 'FSPPA_3', 'DSTOR_18', 'DSPPA_12', #'BPOS', 'DBPOS_18', \n",
    "#     'FHKLD_3', 'DSPPA_APRS_3', 'DBVEL_3', 'DDEPT_18', 'DRPM_18', 'ECD', 'PDEPT', 'DSTOR_12', \n",
    "#     'FSPPA_APRS_3', 'SPPA', 'DHKLD_18', 'DHKLD_6', 'DSPPA', 'DEPT', 'F_all', #'DBPOS_12'\n",
    "]].values\n",
    "# нормализация:\n",
    "sc= StandardScaler().fit(X)\n",
    "X = sc.transform(X)"
   ]
  },
  {
   "cell_type": "code",
   "execution_count": 56,
   "metadata": {},
   "outputs": [],
   "source": [
    "with open('ctboost_model_0706.pkl', 'rb') as pkl_file:\n",
    "    catboost_model = pickle.load(pkl_file)\n",
    "\n",
    "predict = catboost_model.predict_proba(X)\n",
    "# predict = catboost_model.predict(X)\n",
    "# predict_list = predict.tolist()"
   ]
  },
  {
   "cell_type": "code",
   "execution_count": 57,
   "metadata": {},
   "outputs": [
    {
     "data": {
      "text/html": [
       "<div>\n",
       "<style scoped>\n",
       "    .dataframe tbody tr th:only-of-type {\n",
       "        vertical-align: middle;\n",
       "    }\n",
       "\n",
       "    .dataframe tbody tr th {\n",
       "        vertical-align: top;\n",
       "    }\n",
       "\n",
       "    .dataframe thead th {\n",
       "        text-align: right;\n",
       "    }\n",
       "</style>\n",
       "<table border=\"1\" class=\"dataframe\">\n",
       "  <thead>\n",
       "    <tr style=\"text-align: right;\">\n",
       "      <th></th>\n",
       "      <th>predict</th>\n",
       "      <th>Predict</th>\n",
       "      <th>mark</th>\n",
       "    </tr>\n",
       "  </thead>\n",
       "  <tbody>\n",
       "    <tr>\n",
       "      <th>0</th>\n",
       "      <td>0.856743</td>\n",
       "      <td>0.143257</td>\n",
       "      <td>0</td>\n",
       "    </tr>\n",
       "    <tr>\n",
       "      <th>1</th>\n",
       "      <td>0.858173</td>\n",
       "      <td>0.141827</td>\n",
       "      <td>0</td>\n",
       "    </tr>\n",
       "    <tr>\n",
       "      <th>2</th>\n",
       "      <td>0.866333</td>\n",
       "      <td>0.133667</td>\n",
       "      <td>0</td>\n",
       "    </tr>\n",
       "    <tr>\n",
       "      <th>3</th>\n",
       "      <td>0.867846</td>\n",
       "      <td>0.132154</td>\n",
       "      <td>0</td>\n",
       "    </tr>\n",
       "    <tr>\n",
       "      <th>4</th>\n",
       "      <td>0.860475</td>\n",
       "      <td>0.139525</td>\n",
       "      <td>0</td>\n",
       "    </tr>\n",
       "    <tr>\n",
       "      <th>...</th>\n",
       "      <td>...</td>\n",
       "      <td>...</td>\n",
       "      <td>...</td>\n",
       "    </tr>\n",
       "    <tr>\n",
       "      <th>234952</th>\n",
       "      <td>0.376860</td>\n",
       "      <td>0.623140</td>\n",
       "      <td>0</td>\n",
       "    </tr>\n",
       "    <tr>\n",
       "      <th>234953</th>\n",
       "      <td>0.369423</td>\n",
       "      <td>0.630577</td>\n",
       "      <td>0</td>\n",
       "    </tr>\n",
       "    <tr>\n",
       "      <th>234954</th>\n",
       "      <td>0.295899</td>\n",
       "      <td>0.704101</td>\n",
       "      <td>0</td>\n",
       "    </tr>\n",
       "    <tr>\n",
       "      <th>234955</th>\n",
       "      <td>0.359940</td>\n",
       "      <td>0.640060</td>\n",
       "      <td>0</td>\n",
       "    </tr>\n",
       "    <tr>\n",
       "      <th>234956</th>\n",
       "      <td>0.369608</td>\n",
       "      <td>0.630392</td>\n",
       "      <td>0</td>\n",
       "    </tr>\n",
       "  </tbody>\n",
       "</table>\n",
       "<p>234957 rows × 3 columns</p>\n",
       "</div>"
      ],
      "text/plain": [
       "         predict   Predict  mark\n",
       "0       0.856743  0.143257     0\n",
       "1       0.858173  0.141827     0\n",
       "2       0.866333  0.133667     0\n",
       "3       0.867846  0.132154     0\n",
       "4       0.860475  0.139525     0\n",
       "...          ...       ...   ...\n",
       "234952  0.376860  0.623140     0\n",
       "234953  0.369423  0.630577     0\n",
       "234954  0.295899  0.704101     0\n",
       "234955  0.359940  0.640060     0\n",
       "234956  0.369608  0.630392     0\n",
       "\n",
       "[234957 rows x 3 columns]"
      ]
     },
     "metadata": {},
     "output_type": "display_data"
    }
   ],
   "source": [
    "df=pd.DataFrame()\n",
    "df = pd.DataFrame((_ for _ in itertools.zip_longest(*predict))).T\n",
    "df.rename(columns = {0:'predict', 1:'Predict'}, inplace = True)\n",
    "df['mark'] = 0\n",
    "df.loc[df['Predict'] > 0.97, 'mark'] = 1\n",
    "predict_list = df['mark'].tolist()\n",
    "display(df)"
   ]
  },
  {
   "cell_type": "code",
   "execution_count": 58,
   "metadata": {},
   "outputs": [],
   "source": [
    "#Удаление одиноких единиц и нолей\n",
    "for i in range(len(predict_list)-4):\n",
    "#     if predict_list[i]==0 and predict_list[i-1]==1 and predict_list[i+1]==1:\n",
    "#         predict_list[i]=1\n",
    "#     if predict_list[i]==0 and predict_list[i-1]==1 and predict_list[i+2]==1:\n",
    "#         predict_list[i]=1\n",
    "    \n",
    "    if predict_list[i]==1 and predict_list[i-1]==0 and predict_list[i+1]==0:\n",
    "        predict_list[i]=0\n",
    "    if predict_list[i]==1 and predict_list[i-1]==0 and predict_list[i+2]==0:\n",
    "        predict_list[i]=0\n",
    "    if predict_list[i]==1 and predict_list[i-1]==0 and predict_list[i+3]==0:\n",
    "        predict_list[i]=0\n",
    "    if predict_list[i]==1 and predict_list[i-1]==0 and predict_list[i+4]==0:\n",
    "        predict_list[i]=0"
   ]
  },
  {
   "cell_type": "code",
   "execution_count": 59,
   "metadata": {},
   "outputs": [
    {
     "name": "stdout",
     "output_type": "stream",
     "text": [
      "The autoreload extension is already loaded. To reload it, use:\n",
      "  %reload_ext autoreload\n"
     ]
    }
   ],
   "source": [
    "%load_ext autoreload\n",
    "%aimport primary_data\n",
    "primary_data.walk_dir(path)\n",
    "predict_data = pd.read_csv('primary_data.csv')\n",
    "# predict_data['Predict'] = df['Predict']*100\n",
    "predict_data['Predict'] = np.array(predict_list)"
   ]
  },
  {
   "cell_type": "code",
   "execution_count": null,
   "metadata": {},
   "outputs": [],
   "source": [
    "#Формирование уведомления о низком качестве входных данных\n",
    "# predict_data.loc[((predict_data['ECD'].rolling(20).mean()==(-999.25)) |\n",
    "#                   (predict_data['RPM'].rolling(20).mean()==(-999.25)) |\n",
    "#                   (predict_data['BVEL'].rolling(20).mean()==(-999.25)) |\n",
    "#                   (predict_data['HKLD'].rolling(20).mean()==(-999.25)) | \n",
    "#                   (predict_data['SPPA'].rolling(20).mean()==(-999.25)) | \n",
    "#                   (predict_data['STOR'].rolling(20).mean()==(-999.25)) | \n",
    "#                   (predict_data['BPOS'].rolling(20).mean()==(-999.25))), 'Predict'] = 'Плохие данные'"
   ]
  },
  {
   "cell_type": "code",
   "execution_count": 60,
   "metadata": {},
   "outputs": [],
   "source": [
    "predict_data.to_excel('final_data_test_0706_1.xlsx')"
   ]
  },
  {
   "cell_type": "code",
   "execution_count": 7,
   "metadata": {},
   "outputs": [
    {
     "name": "stdout",
     "output_type": "stream",
     "text": [
      "[[30928    70]\n",
      " [  183  1517]]\n",
      "              precision    recall  f1-score   support\n",
      "\n",
      "       Норма       0.99      1.00      1.00     30998\n",
      "     Прихват       0.96      0.89      0.92      1700\n",
      "\n",
      "    accuracy                           0.99     32698\n",
      "   macro avg       0.98      0.95      0.96     32698\n",
      "weighted avg       0.99      0.99      0.99     32698\n",
      "\n"
     ]
    }
   ],
   "source": [
    "#Оценка метрик по размеченным данным\n",
    "labels=[\"Норма\",\"Прихват\"]\n",
    "predict_data = predict_data.fillna(0)\n",
    "print(confusion_matrix(predict_data['Predict'].values, predict_data['StuckPipe'].values))  \n",
    "print(classification_report(predict_data['Predict'].values, predict_data['StuckPipe'].values,\n",
    "                            target_names = labels)) "
   ]
  },
  {
   "cell_type": "code",
   "execution_count": 17,
   "metadata": {
    "scrolled": false
   },
   "outputs": [
    {
     "data": {
      "text/plain": [
       "0.0    14841\n",
       "1.0    11669\n",
       "Name: Predict, dtype: int64"
      ]
     },
     "execution_count": 17,
     "metadata": {},
     "output_type": "execute_result"
    }
   ],
   "source": [
    "predict_data.Predict.value_counts()"
   ]
  },
  {
   "cell_type": "code",
   "execution_count": 52,
   "metadata": {},
   "outputs": [
    {
     "ename": "AttributeError",
     "evalue": "'DataFrame' object has no attribute 'marker'",
     "output_type": "error",
     "traceback": [
      "\u001b[1;31m---------------------------------------------------------------------------\u001b[0m",
      "\u001b[1;31mAttributeError\u001b[0m                            Traceback (most recent call last)",
      "\u001b[1;32m<ipython-input-52-dcc048552b12>\u001b[0m in \u001b[0;36m<module>\u001b[1;34m\u001b[0m\n\u001b[1;32m----> 1\u001b[1;33m \u001b[0mpredict_data\u001b[0m\u001b[1;33m.\u001b[0m\u001b[0mmarker\u001b[0m\u001b[1;33m.\u001b[0m\u001b[0mvalue_counts\u001b[0m\u001b[1;33m(\u001b[0m\u001b[1;33m)\u001b[0m\u001b[1;33m\u001b[0m\u001b[1;33m\u001b[0m\u001b[0m\n\u001b[0m",
      "\u001b[1;32m~\\Documents\\Anaconda\\lib\\site-packages\\pandas\\core\\generic.py\u001b[0m in \u001b[0;36m__getattr__\u001b[1;34m(self, name)\u001b[0m\n\u001b[0;32m   5137\u001b[0m             \u001b[1;32mif\u001b[0m \u001b[0mself\u001b[0m\u001b[1;33m.\u001b[0m\u001b[0m_info_axis\u001b[0m\u001b[1;33m.\u001b[0m\u001b[0m_can_hold_identifiers_and_holds_name\u001b[0m\u001b[1;33m(\u001b[0m\u001b[0mname\u001b[0m\u001b[1;33m)\u001b[0m\u001b[1;33m:\u001b[0m\u001b[1;33m\u001b[0m\u001b[1;33m\u001b[0m\u001b[0m\n\u001b[0;32m   5138\u001b[0m                 \u001b[1;32mreturn\u001b[0m \u001b[0mself\u001b[0m\u001b[1;33m[\u001b[0m\u001b[0mname\u001b[0m\u001b[1;33m]\u001b[0m\u001b[1;33m\u001b[0m\u001b[1;33m\u001b[0m\u001b[0m\n\u001b[1;32m-> 5139\u001b[1;33m             \u001b[1;32mreturn\u001b[0m \u001b[0mobject\u001b[0m\u001b[1;33m.\u001b[0m\u001b[0m__getattribute__\u001b[0m\u001b[1;33m(\u001b[0m\u001b[0mself\u001b[0m\u001b[1;33m,\u001b[0m \u001b[0mname\u001b[0m\u001b[1;33m)\u001b[0m\u001b[1;33m\u001b[0m\u001b[1;33m\u001b[0m\u001b[0m\n\u001b[0m\u001b[0;32m   5140\u001b[0m \u001b[1;33m\u001b[0m\u001b[0m\n\u001b[0;32m   5141\u001b[0m     \u001b[1;32mdef\u001b[0m \u001b[0m__setattr__\u001b[0m\u001b[1;33m(\u001b[0m\u001b[0mself\u001b[0m\u001b[1;33m,\u001b[0m \u001b[0mname\u001b[0m\u001b[1;33m:\u001b[0m \u001b[0mstr\u001b[0m\u001b[1;33m,\u001b[0m \u001b[0mvalue\u001b[0m\u001b[1;33m)\u001b[0m \u001b[1;33m->\u001b[0m \u001b[1;32mNone\u001b[0m\u001b[1;33m:\u001b[0m\u001b[1;33m\u001b[0m\u001b[1;33m\u001b[0m\u001b[0m\n",
      "\u001b[1;31mAttributeError\u001b[0m: 'DataFrame' object has no attribute 'marker'"
     ]
    }
   ],
   "source": [
    "predict_data.marker.value_counts()"
   ]
  },
  {
   "cell_type": "code",
   "execution_count": null,
   "metadata": {},
   "outputs": [],
   "source": []
  }
 ],
 "metadata": {
  "kernelspec": {
   "display_name": "Python 3",
   "language": "python",
   "name": "python3"
  },
  "language_info": {
   "codemirror_mode": {
    "name": "ipython",
    "version": 3
   },
   "file_extension": ".py",
   "mimetype": "text/x-python",
   "name": "python",
   "nbconvert_exporter": "python",
   "pygments_lexer": "ipython3",
   "version": "3.8.5"
  }
 },
 "nbformat": 4,
 "nbformat_minor": 4
}
