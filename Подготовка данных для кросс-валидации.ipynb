{
 "cells": [
  {
   "cell_type": "code",
   "execution_count": 3,
   "metadata": {},
   "outputs": [],
   "source": [
    "import os\n",
    "import shutil\n",
    "import random"
   ]
  },
  {
   "cell_type": "code",
   "execution_count": 4,
   "metadata": {},
   "outputs": [],
   "source": [
    "#Разделение файлов на n-фолдов случайным образом\n",
    "\n",
    "path_in = \"C:/Users/shers/Desktop/SF/Буровая/StuckPipe_30\" #путь к исходной папке с файлами\n",
    "path_out = \"C:/Users/shers/Desktop/SF/Буровая/cross_val_pred_30\" #путь к новой папке с фолдами (создается скриптом)\n",
    "fold_count = 5 #кол-во фолдов\n",
    "test_perc = 10 #процент файлов в тест\n",
    "\n",
    "os.mkdir(path_out)\n",
    "for i in range(1, fold_count+1):\n",
    "    os.mkdir(path_out + \"/fold_\" + str(i))\n",
    "    os.mkdir(path_out + \"/fold_\" + str(i) + \"/StuckPipe_train\")\n",
    "    os.mkdir(path_out + \"/fold_\" + str(i) + \"/StuckPipe_test\")\n",
    "    for dirname, _, filenames in os.walk (path_in):\n",
    "        test_list = []\n",
    "        for file in random.sample(filenames, len(filenames)*test_perc//100):\n",
    "            shutil.copy(path_in + \"/\" + file, path_out + \"/fold_\" + str(i) + \"/StuckPipe_test\")\n",
    "            test_list.append(file)\n",
    "        for file in filenames:\n",
    "            if file not in test_list:\n",
    "                shutil.copy(path_in + \"/\" + file, path_out + \"/fold_\" + str(i) + \"/StuckPipe_train\")"
   ]
  },
  {
   "cell_type": "code",
   "execution_count": null,
   "metadata": {},
   "outputs": [],
   "source": []
  }
 ],
 "metadata": {
  "kernelspec": {
   "display_name": "Python 3",
   "language": "python",
   "name": "python3"
  },
  "language_info": {
   "codemirror_mode": {
    "name": "ipython",
    "version": 3
   },
   "file_extension": ".py",
   "mimetype": "text/x-python",
   "name": "python",
   "nbconvert_exporter": "python",
   "pygments_lexer": "ipython3",
   "version": "3.8.5"
  }
 },
 "nbformat": 4,
 "nbformat_minor": 4
}
