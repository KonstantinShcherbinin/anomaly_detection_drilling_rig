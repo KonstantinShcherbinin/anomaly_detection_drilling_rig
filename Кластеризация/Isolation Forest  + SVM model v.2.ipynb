{
 "cells": [
  {
   "cell_type": "markdown",
   "metadata": {},
   "source": [
    "## Isolation Forest"
   ]
  },
  {
   "cell_type": "markdown",
   "metadata": {},
   "source": [
    "Ансамбль деревьев решений.\n",
    "Возвращает оценку аномалии каждой выборки с помощью алгоритма IsolationForest"
   ]
  },
  {
   "cell_type": "code",
   "execution_count": 995,
   "metadata": {},
   "outputs": [],
   "source": [
    "import pandas as pd\n",
    "from sklearn.cluster import AgglomerativeClustering\n",
    "import numpy as np\n",
    "import seaborn as sns\n",
    "import matplotlib.pyplot as plt\n",
    "from sklearn.preprocessing import MaxAbsScaler,Normalizer,StandardScaler\n",
    "from sklearn import preprocessing\n",
    "from sklearn.decomposition import PCA\n",
    "from sklearn import metrics\n",
    "from sklearn.covariance import EllipticEnvelope\n",
    "from sklearn.ensemble import IsolationForest\n",
    "from sklearn.svm import OneClassSVM"
   ]
  },
  {
   "cell_type": "code",
   "execution_count": 996,
   "metadata": {},
   "outputs": [
    {
     "data": {
      "text/plain": [
       "0        1381827300\n",
       "1        1381827310\n",
       "2        1381827320\n",
       "3        1381827330\n",
       "4        1381827340\n",
       "            ...    \n",
       "21561    1296585150\n",
       "21562    1296585160\n",
       "21563    1296585170\n",
       "21564    1296585180\n",
       "21565    1296585190\n",
       "Name: TimeU, Length: 21566, dtype: int64"
      ]
     },
     "execution_count": 996,
     "metadata": {},
     "output_type": "execute_result"
    }
   ],
   "source": [
    "RANDOM_STATE = 42\n",
    "sns.set(style=\"darkgrid\")\n",
    "pd.set_option('display.max_rows', 1000)\n",
    "data = pd.read_csv(\"all_eda_obr20_04-2.csv\")\n",
    "data[\"TimeU\"]\n",
    "#list(data.columns)"
   ]
  },
  {
   "cell_type": "code",
   "execution_count": 1355,
   "metadata": {},
   "outputs": [
    {
     "data": {
      "text/plain": [
       "array([ 1,  1,  1, ...,  1, -1, -1])"
      ]
     },
     "execution_count": 1355,
     "metadata": {},
     "output_type": "execute_result"
    }
   ],
   "source": [
    "# Может запилить GridSearch для поиска оптим.гиперпараметров?\n",
    "\n",
    "outliers_fraction = 0.05   #регулируем    0.07 \n",
    "data = pd.read_csv(\"all_eda_obr20_04-2.csv\")\n",
    "\n",
    "data1 =  data[data['RIG_STATE']==7]\n",
    "df = data1[['DEPT_bin', 'SPPA_bin', 'BVEL_bin', 'HKLD_bin', 'BPOS_bin',\"TimeU\"]] #Павел\n",
    "df6 = data1[['DEPT_bin', 'SPPA_bin', 'BVEL_bin', 'HKLD_bin', \n",
    "            'BPOS_bin', \"RPM_bin\", \"STOR_bin\"]] #Костя \n",
    " \n",
    "df2 = data1[['BPOS', 'FBPOS_1' ,'FBPOS_3' ,'DHKLD_6' ,'DSPPA_3','DSPPA_6' ,\n",
    "             'DEPT_bin','SPPA_bin','SPPA_APRS_bin',\n",
    "             'BVEL_bin','HKLD_bin','ANOMAL','BPOS_bin',\"TimeU\"]] #Татьяна\n",
    "\n",
    "#pca = PCA(n_components=4)\n",
    "#df2 = pca.fit_transform(df2)\n",
    "model =  IsolationForest(n_estimators=70, \n",
    "                         max_samples = 70,#регулируем\n",
    "                        contamination = outliers_fraction)\n",
    "model.fit(df2)\n",
    "labels = model.predict(df2)\n",
    "labels\n",
    "#clf = IsolationForest(random_state=0).fit(df2)\n",
    "#labels = clf.predict(df2)"
   ]
  },
  {
   "cell_type": "code",
   "execution_count": 1356,
   "metadata": {},
   "outputs": [
    {
     "data": {
      "text/plain": [
       "StuckPipe  predict\n",
       "0.0         1         9964\n",
       "1.0        -1          274\n",
       "0.0        -1          260\n",
       "1.0         1          171\n",
       "dtype: int64"
      ]
     },
     "execution_count": 1356,
     "metadata": {},
     "output_type": "execute_result"
    }
   ],
   "source": [
    "df9 = pd.DataFrame()\n",
    "df9['StuckPipe'] = data1['StuckPipe']\n",
    "df9['predict'] = labels\n",
    "df9.value_counts()"
   ]
  },
  {
   "cell_type": "code",
   "execution_count": 1357,
   "metadata": {},
   "outputs": [
    {
     "data": {
      "text/plain": [
       "array([ 1, -1])"
      ]
     },
     "execution_count": 1357,
     "metadata": {},
     "output_type": "execute_result"
    }
   ],
   "source": [
    "df9['predict'].unique()"
   ]
  },
  {
   "cell_type": "code",
   "execution_count": 1358,
   "metadata": {},
   "outputs": [
    {
     "data": {
      "text/plain": [
       "0    10135\n",
       "1      534\n",
       "Name: predict, dtype: int64"
      ]
     },
     "execution_count": 1358,
     "metadata": {},
     "output_type": "execute_result"
    }
   ],
   "source": [
    "df9['predict']=df9['predict'].apply(lambda n: 0 if n==1 else 1)\n",
    "df9['predict'].value_counts()"
   ]
  },
  {
   "cell_type": "code",
   "execution_count": 1359,
   "metadata": {},
   "outputs": [
    {
     "data": {
      "text/plain": [
       "StuckPipe  predict\n",
       "0.0        0          9964\n",
       "1.0        1           274\n",
       "0.0        1           260\n",
       "1.0        0           171\n",
       "dtype: int64"
      ]
     },
     "execution_count": 1359,
     "metadata": {},
     "output_type": "execute_result"
    }
   ],
   "source": [
    "df9.value_counts()"
   ]
  },
  {
   "cell_type": "code",
   "execution_count": 1360,
   "metadata": {},
   "outputs": [
    {
     "data": {
      "text/plain": [
       "0.5597548518896834"
      ]
     },
     "execution_count": 1360,
     "metadata": {},
     "output_type": "execute_result"
    }
   ],
   "source": [
    "metrics.f1_score(data1['StuckPipe'], df9['predict'])"
   ]
  },
  {
   "cell_type": "code",
   "execution_count": 1361,
   "metadata": {},
   "outputs": [
    {
     "name": "stdout",
     "output_type": "stream",
     "text": [
      "              precision    recall  f1-score   support\n",
      "\n",
      "         0.0       0.98      0.97      0.98     10224\n",
      "         1.0       0.51      0.62      0.56       445\n",
      "\n",
      "    accuracy                           0.96     10669\n",
      "   macro avg       0.75      0.80      0.77     10669\n",
      "weighted avg       0.96      0.96      0.96     10669\n",
      "\n"
     ]
    }
   ],
   "source": [
    "print(classification_report(data1['StuckPipe'], df9['predict']))"
   ]
  },
  {
   "cell_type": "markdown",
   "metadata": {},
   "source": [
    "## Проверим модель на 1 скважине: (получается лучше результат на отдельных скважинах)"
   ]
  },
  {
   "cell_type": "code",
   "execution_count": 1004,
   "metadata": {},
   "outputs": [
    {
     "data": {
      "text/plain": [
       "array([ 1,  1,  1,  1,  1,  1,  1,  1,  1,  1,  1,  1,  1,  1, -1,  1,  1,\n",
       "        1,  1,  1,  1,  1,  1,  1,  1,  1,  1,  1,  1,  1,  1,  1,  1,  1,\n",
       "        1,  1,  1,  1,  1,  1,  1,  1,  1,  1,  1,  1,  1,  1,  1,  1,  1,\n",
       "        1,  1,  1,  1,  1,  1,  1,  1,  1,  1,  1,  1,  1,  1,  1,  1,  1,\n",
       "        1,  1,  1,  1,  1,  1,  1,  1,  1,  1,  1,  1,  1,  1,  1,  1,  1,\n",
       "        1,  1,  1,  1,  1,  1,  1,  1,  1,  1,  1,  1,  1,  1,  1,  1,  1,\n",
       "        1,  1,  1,  1,  1,  1,  1,  1,  1,  1,  1,  1,  1,  1,  1,  1,  1,\n",
       "        1,  1,  1,  1,  1,  1,  1,  1,  1,  1,  1,  1,  1,  1,  1,  1,  1,\n",
       "        1,  1,  1,  1,  1,  1,  1,  1,  1,  1,  1,  1,  1,  1,  1,  1, -1,\n",
       "       -1,  1,  1,  1,  1,  1,  1,  1,  1,  1,  1,  1,  1,  1,  1,  1,  1,\n",
       "        1,  1,  1,  1,  1,  1,  1,  1,  1,  1,  1,  1,  1,  1,  1,  1,  1,\n",
       "        1,  1,  1,  1,  1,  1,  1,  1,  1,  1,  1,  1,  1,  1,  1,  1,  1,\n",
       "        1,  1,  1,  1,  1,  1,  1,  1,  1,  1,  1,  1,  1,  1,  1,  1,  1,\n",
       "        1,  1,  1,  1,  1,  1,  1,  1,  1,  1,  1,  1,  1,  1,  1,  1,  1,\n",
       "        1,  1,  1,  1,  1,  1, -1,  1,  1,  1,  1,  1,  1,  1,  1,  1,  1,\n",
       "        1,  1,  1,  1,  1,  1,  1,  1,  1, -1, -1, -1,  1,  1,  1,  1,  1,\n",
       "        1,  1,  1,  1,  1,  1,  1,  1,  1,  1,  1,  1,  1,  1,  1,  1,  1,\n",
       "        1,  1,  1,  1,  1,  1,  1,  1,  1,  1,  1,  1,  1,  1,  1,  1,  1,\n",
       "        1,  1,  1,  1,  1,  1,  1,  1,  1,  1,  1,  1,  1,  1,  1,  1,  1,\n",
       "        1,  1,  1,  1,  1,  1,  1,  1,  1,  1,  1,  1,  1,  1,  1,  1,  1,\n",
       "        1,  1,  1,  1,  1,  1,  1,  1,  1,  1,  1,  1,  1,  1,  1,  1,  1,\n",
       "        1,  1,  1,  1,  1,  1,  1,  1,  1,  1, -1, -1,  1,  1,  1,  1,  1,\n",
       "        1,  1,  1,  1,  1,  1,  1,  1,  1,  1,  1, -1, -1, -1, -1, -1, -1,\n",
       "       -1, -1, -1, -1, -1,  1,  1,  1,  1, -1,  1,  1,  1,  1,  1,  1,  1,\n",
       "        1,  1,  1,  1,  1,  1,  1,  1,  1,  1,  1,  1,  1,  1,  1,  1,  1,\n",
       "        1,  1,  1,  1,  1,  1,  1,  1,  1,  1,  1,  1,  1,  1,  1,  1,  1,\n",
       "        1,  1,  1,  1,  1,  1,  1,  1,  1,  1,  1,  1,  1,  1,  1,  1,  1,\n",
       "        1,  1,  1,  1,  1,  1,  1,  1,  1,  1,  1,  1,  1,  1,  1,  1,  1,\n",
       "        1,  1,  1,  1,  1,  1,  1,  1,  1,  1,  1,  1,  1,  1,  1,  1,  1,\n",
       "        1,  1, -1, -1, -1, -1, -1, -1,  1,  1,  1,  1,  1,  1,  1,  1,  1,\n",
       "        1,  1,  1,  1,  1,  1,  1,  1,  1,  1, -1, -1, -1, -1, -1, -1, -1,\n",
       "       -1, -1])"
      ]
     },
     "execution_count": 1004,
     "metadata": {},
     "output_type": "execute_result"
    }
   ],
   "source": [
    "outliers_fraction = 0.07 #регулируем    0.07 \n",
    "data = pd.read_csv(\"all_eda_obr20_04-2.csv\")\n",
    "\n",
    "data1 =  data[data['RIG_STATE']==7]\n",
    "data1 =  data1[data1['hole']==\"241\"]   # 241\n",
    "df2 = data1[['DEPT_bin', 'SPPA_bin', 'BVEL_bin', 'HKLD_bin', 'BPOS_bin']]\n",
    "df77 = data1[[ 'DEPT_bin','SPPA_bin',  'HKLD_bin',\n",
    "            'BPOS_bin', \"RPM_bin\",'DEPT_bin',\n",
    "            ]] #\"STOR_bin\",'BPOS_bin', \"RPM_bin\"\n",
    "df2 = data1[['BPOS', 'FBPOS_1' ,'FBPOS_3' ,'DHKLD_6' ,'DSPPA_3','DSPPA_6' ,\n",
    "             'DEPT_bin','SPPA_bin','SPPA_APRS_bin' ,\n",
    "             'BVEL_bin','HKLD_bin','ANOMAL','BPOS_bin']]\n",
    "#pca = PCA(n_components=2)\n",
    "#df2 = pca.fit_transform(df2)\n",
    "model =  IsolationForest(n_estimators=8, \n",
    "                         max_samples = 50,#регулируем\n",
    "                        contamination = outliers_fraction)\n",
    "model.fit(df2)\n",
    "labels = model.predict(df2)\n",
    "#labels"
   ]
  },
  {
   "cell_type": "code",
   "execution_count": 1005,
   "metadata": {},
   "outputs": [
    {
     "data": {
      "text/plain": [
       "StuckPipe  predict\n",
       "0.0         1         488\n",
       "1.0        -1          19\n",
       "0.0        -1          17\n",
       "1.0         1           5\n",
       "dtype: int64"
      ]
     },
     "execution_count": 1005,
     "metadata": {},
     "output_type": "execute_result"
    }
   ],
   "source": [
    "df9 = pd.DataFrame()\n",
    "df9['StuckPipe'] = data1['StuckPipe']\n",
    "df9['predict'] = labels\n",
    "df9.value_counts()"
   ]
  },
  {
   "cell_type": "code",
   "execution_count": 1006,
   "metadata": {},
   "outputs": [
    {
     "data": {
      "text/plain": [
       "0    493\n",
       "1     36\n",
       "Name: predict, dtype: int64"
      ]
     },
     "execution_count": 1006,
     "metadata": {},
     "output_type": "execute_result"
    }
   ],
   "source": [
    "df9['predict']=df9['predict'].apply(lambda n: 0 if n==1 else 1)\n",
    "df9['predict'].value_counts()"
   ]
  },
  {
   "cell_type": "code",
   "execution_count": 1007,
   "metadata": {},
   "outputs": [
    {
     "data": {
      "text/plain": [
       "0.6333333333333333"
      ]
     },
     "execution_count": 1007,
     "metadata": {},
     "output_type": "execute_result"
    }
   ],
   "source": [
    "metrics.f1_score(data1['StuckPipe'], df9['predict'])"
   ]
  },
  {
   "cell_type": "code",
   "execution_count": 1008,
   "metadata": {},
   "outputs": [
    {
     "name": "stdout",
     "output_type": "stream",
     "text": [
      "              precision    recall  f1-score   support\n",
      "\n",
      "         0.0       0.99      0.97      0.98       505\n",
      "         1.0       0.53      0.79      0.63        24\n",
      "\n",
      "    accuracy                           0.96       529\n",
      "   macro avg       0.76      0.88      0.81       529\n",
      "weighted avg       0.97      0.96      0.96       529\n",
      "\n"
     ]
    }
   ],
   "source": [
    "print(classification_report(data1['StuckPipe'], df9['predict']))"
   ]
  },
  {
   "cell_type": "markdown",
   "metadata": {},
   "source": [
    "### Результат неплохой:  Recall 79%!!!"
   ]
  },
  {
   "cell_type": "code",
   "execution_count": 1009,
   "metadata": {},
   "outputs": [
    {
     "data": {
      "text/plain": [
       "array(['204', '210ST', '210ST2', '216', '217ST1', '217ST2', '220',\n",
       "       '220ST3', '220ST4', '234ST2', '241', '243', '256ST2', '256ST3',\n",
       "       '278', '279'], dtype=object)"
      ]
     },
     "execution_count": 1009,
     "metadata": {},
     "output_type": "execute_result"
    }
   ],
   "source": [
    "data.hole.unique()"
   ]
  },
  {
   "cell_type": "code",
   "execution_count": 1016,
   "metadata": {},
   "outputs": [],
   "source": [
    "outliers_fraction = 0.06 #регулируем    0.07 , 0.09\n",
    "data = pd.read_csv(\"all_eda_obr20_04-2.csv\")\n",
    "\n",
    "data1 =  data[data['RIG_STATE']==7]\n",
    "data1 =  data1[data1['hole']==\"241\"]   # 241             \n",
    "df2 = data1[['DEPT_bin', 'SPPA_bin', 'BVEL_bin', 'HKLD_bin', 'BPOS_bin',\"TimeU\"]]\n",
    "\n",
    "df1 = data1[['BPOS', 'FBPOS_1' ,'FBPOS_3' ,'DHKLD_6' ,'DSPPA_3','DSPPA_6' ,\n",
    "             'DEPT_bin','SPPA_bin','SPPA_APRS_bin',\n",
    "             'BVEL_bin','HKLD_bin','ANOMAL','BPOS_bin',\"TimeU\"]] #Tatjana\n",
    "\n",
    "\n",
    "#pca = PCA(n_components=2)\n",
    "#df2 = pca.fit_transform(df2)\n",
    "model =  IsolationForest(n_estimators=50,  # регулируем  15/5\n",
    "                          max_samples = 50, # регулируем  90\n",
    "                        contamination = outliers_fraction)\n",
    "model.fit(df2)\n",
    "labels = model.predict(df2)\n",
    "#labels"
   ]
  },
  {
   "cell_type": "code",
   "execution_count": 1017,
   "metadata": {},
   "outputs": [
    {
     "data": {
      "text/plain": [
       "StuckPipe  predict\n",
       "0.0         1         494\n",
       "1.0        -1          18\n",
       "0.0        -1          11\n",
       "1.0         1           6\n",
       "dtype: int64"
      ]
     },
     "execution_count": 1017,
     "metadata": {},
     "output_type": "execute_result"
    }
   ],
   "source": [
    "df9 = pd.DataFrame()\n",
    "df9['StuckPipe'] = data1['StuckPipe']\n",
    "df9['predict'] = labels\n",
    "df9.value_counts()"
   ]
  },
  {
   "cell_type": "code",
   "execution_count": 1018,
   "metadata": {},
   "outputs": [
    {
     "data": {
      "text/plain": [
       "0    500\n",
       "1     29\n",
       "Name: predict, dtype: int64"
      ]
     },
     "execution_count": 1018,
     "metadata": {},
     "output_type": "execute_result"
    }
   ],
   "source": [
    "df9['predict']=df9['predict'].apply(lambda n: 0 if n==1 else 1)\n",
    "df9['predict'].value_counts()"
   ]
  },
  {
   "cell_type": "code",
   "execution_count": 1019,
   "metadata": {},
   "outputs": [
    {
     "data": {
      "text/plain": [
       "StuckPipe  predict\n",
       "0.0        0          494\n",
       "1.0        1           18\n",
       "0.0        1           11\n",
       "1.0        0            6\n",
       "dtype: int64"
      ]
     },
     "execution_count": 1019,
     "metadata": {},
     "output_type": "execute_result"
    }
   ],
   "source": [
    "df9.value_counts()"
   ]
  },
  {
   "cell_type": "code",
   "execution_count": 1020,
   "metadata": {},
   "outputs": [
    {
     "data": {
      "text/plain": [
       "0.679245283018868"
      ]
     },
     "execution_count": 1020,
     "metadata": {},
     "output_type": "execute_result"
    }
   ],
   "source": [
    "metrics.f1_score(data1['StuckPipe'], df9['predict'])"
   ]
  },
  {
   "cell_type": "markdown",
   "metadata": {},
   "source": [
    "### Результат неплохой:  Recall 75%!!!"
   ]
  },
  {
   "cell_type": "code",
   "execution_count": 1021,
   "metadata": {},
   "outputs": [
    {
     "name": "stdout",
     "output_type": "stream",
     "text": [
      "              precision    recall  f1-score   support\n",
      "\n",
      "         0.0       0.99      0.98      0.98       505\n",
      "         1.0       0.62      0.75      0.68        24\n",
      "\n",
      "    accuracy                           0.97       529\n",
      "   macro avg       0.80      0.86      0.83       529\n",
      "weighted avg       0.97      0.97      0.97       529\n",
      "\n"
     ]
    }
   ],
   "source": [
    "from sklearn.metrics import classification_report\n",
    "#classification_report(df9['predict'],data1['StuckPipe'])\n",
    "print(classification_report(data1['StuckPipe'], df9['predict']))"
   ]
  },
  {
   "cell_type": "markdown",
   "metadata": {},
   "source": [
    "## One class SVM¶"
   ]
  },
  {
   "cell_type": "code",
   "execution_count": 1399,
   "metadata": {},
   "outputs": [
    {
     "data": {
      "text/plain": [
       "array([3695.84342443, 3695.84342443, 3695.84342443, ...,  934.185006  ,\n",
       "        327.36507391,  934.185006  ])"
      ]
     },
     "execution_count": 1399,
     "metadata": {},
     "output_type": "execute_result"
    }
   ],
   "source": [
    "\n",
    "data = pd.read_csv(\"all_eda_obr20_04-2.csv\")\n",
    "\n",
    "data1 =  data[data['RIG_STATE']==7]\n",
    "#data1 =  data1[data1['hole']==\"241\"]   # 241             \n",
    "df2 = data1[['DEPT_bin', 'SPPA_bin',\"RPM_bin\",\"HKLD_bin\"]]  #интересный результат Recall!!!! 71%\n",
    "\n",
    "# train one class SVM \n",
    "clf = OneClassSVM(gamma='scale').fit(df2)\n",
    "model.fit(df2)\n",
    "labels = clf.predict(df2)\n",
    "clf.score_samples(df2)\n"
   ]
  },
  {
   "cell_type": "code",
   "execution_count": 1400,
   "metadata": {},
   "outputs": [
    {
     "data": {
      "text/plain": [
       "array([ 1,  1,  1, ..., -1, -1, -1])"
      ]
     },
     "execution_count": 1400,
     "metadata": {},
     "output_type": "execute_result"
    }
   ],
   "source": [
    "labels"
   ]
  },
  {
   "cell_type": "code",
   "execution_count": 1401,
   "metadata": {},
   "outputs": [
    {
     "data": {
      "text/plain": [
       "StuckPipe  predict\n",
       "0.0         1         8913\n",
       "           -1         1311\n",
       "1.0        -1          331\n",
       "            1          114\n",
       "dtype: int64"
      ]
     },
     "execution_count": 1401,
     "metadata": {},
     "output_type": "execute_result"
    }
   ],
   "source": [
    "df9 = pd.DataFrame()\n",
    "df9['StuckPipe'] = data1['StuckPipe']\n",
    "df9['predict'] = labels\n",
    "df9.value_counts()"
   ]
  },
  {
   "cell_type": "code",
   "execution_count": 1402,
   "metadata": {},
   "outputs": [
    {
     "data": {
      "text/plain": [
       "0    9027\n",
       "1    1642\n",
       "Name: predict, dtype: int64"
      ]
     },
     "execution_count": 1402,
     "metadata": {},
     "output_type": "execute_result"
    }
   ],
   "source": [
    "# ПРиведем значения labels под наш Таргет:\n",
    "df9['predict']=df9['predict'].apply(lambda n: 0 if n==1 else 1)\n",
    "df9['predict'].value_counts()"
   ]
  },
  {
   "cell_type": "code",
   "execution_count": 1403,
   "metadata": {},
   "outputs": [
    {
     "data": {
      "text/plain": [
       "StuckPipe  predict\n",
       "0.0        0          8913\n",
       "           1          1311\n",
       "1.0        1           331\n",
       "           0           114\n",
       "dtype: int64"
      ]
     },
     "execution_count": 1403,
     "metadata": {},
     "output_type": "execute_result"
    }
   ],
   "source": [
    "df9.value_counts()"
   ]
  },
  {
   "cell_type": "code",
   "execution_count": 1404,
   "metadata": {},
   "outputs": [
    {
     "name": "stdout",
     "output_type": "stream",
     "text": [
      "[[8913 1311]\n",
      " [ 114  331]]\n",
      "              precision    recall  f1-score   support\n",
      "\n",
      "         0.0       0.99      0.87      0.93     10224\n",
      "         1.0       0.20      0.74      0.32       445\n",
      "\n",
      "    accuracy                           0.87     10669\n",
      "   macro avg       0.59      0.81      0.62     10669\n",
      "weighted avg       0.95      0.87      0.90     10669\n",
      "\n"
     ]
    }
   ],
   "source": [
    "from sklearn.metrics import classification_report\n",
    "#classification_report(df9['predict'],data1['StuckPipe'])\n",
    "print(confusion_matrix(data1['StuckPipe'], df9['predict']))\n",
    "print(classification_report(data1['StuckPipe'], df9['predict']))"
   ]
  },
  {
   "cell_type": "markdown",
   "metadata": {},
   "source": [
    "### Результат неплохой:  Recall 71%!!!"
   ]
  },
  {
   "cell_type": "code",
   "execution_count": 1398,
   "metadata": {},
   "outputs": [
    {
     "data": {
      "text/plain": [
       "0.29428228708516596"
      ]
     },
     "execution_count": 1398,
     "metadata": {},
     "output_type": "execute_result"
    }
   ],
   "source": [
    "metrics.f1_score(data1['StuckPipe'], df9['predict'])"
   ]
  },
  {
   "cell_type": "code",
   "execution_count": null,
   "metadata": {},
   "outputs": [],
   "source": []
  },
  {
   "cell_type": "code",
   "execution_count": null,
   "metadata": {},
   "outputs": [],
   "source": []
  },
  {
   "cell_type": "code",
   "execution_count": null,
   "metadata": {},
   "outputs": [],
   "source": []
  }
 ],
 "metadata": {
  "kernelspec": {
   "display_name": "Python 3",
   "language": "python",
   "name": "python3"
  },
  "language_info": {
   "codemirror_mode": {
    "name": "ipython",
    "version": 3
   },
   "file_extension": ".py",
   "mimetype": "text/x-python",
   "name": "python",
   "nbconvert_exporter": "python",
   "pygments_lexer": "ipython3",
   "version": "3.8.3"
  },
  "toc": {
   "base_numbering": 1,
   "nav_menu": {},
   "number_sections": true,
   "sideBar": true,
   "skip_h1_title": false,
   "title_cell": "Table of Contents",
   "title_sidebar": "Contents",
   "toc_cell": false,
   "toc_position": {},
   "toc_section_display": true,
   "toc_window_display": false
  }
 },
 "nbformat": 4,
 "nbformat_minor": 4
}
